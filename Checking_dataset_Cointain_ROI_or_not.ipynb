import os
import cv2

def detect_roi(image):
    # Convert the image to grayscale
    gray = cv2.cvtColor(image, cv2.COLOR_BGR2GRAY)

    # Apply Gaussian blur to reduce noise
    blurred = cv2.GaussianBlur(gray, (5, 5), 0)

    # Perform thresholding to segment regions of interest
    _, thresholded = cv2.threshold(blurred, 100, 255, cv2.THRESH_BINARY)

    # Find contours in the thresholded image
    contours, _ = cv2.findContours(thresholded, cv2.RETR_EXTERNAL, cv2.CHAIN_APPROX_SIMPLE)

    # If any contours are found, the image contains regions of interest
    if len(contours) > 0:
        return True
    else:
        return False

# Path to the directory containing images
directory = "BT_V1/Training/meningioma"

# Iterate over each file in the directory
for filename in os.listdir(directory):
    if filename.endswith(".jpg") or filename.endswith(".png"):
        # Read the image
        image_path = os.path.join(directory, filename)
        image = cv2.imread(image_path)

        # Check if the image contains regions of interest
        if detect_roi(image):
            print(f"{filename}: The image contains regions of interest (ROIs).")
        else:
            print(f"{filename}: No regions of interest (ROIs) found in the image.")
